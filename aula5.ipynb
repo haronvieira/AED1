{
 "cells": [
  {
   "cell_type": "code",
   "execution_count": 1,
   "id": "5e6b5413-7a51-43e5-b1fc-e9faa76b2368",
   "metadata": {},
   "outputs": [
    {
     "name": "stdout",
     "output_type": "stream",
     "text": [
      "Olá Mundo!\n"
     ]
    }
   ],
   "source": [
    "print('Olá Mundo!')"
   ]
  },
  {
   "cell_type": "code",
   "execution_count": 2,
   "id": "c521ebdd-7b63-4e15-b4c2-6850891f855a",
   "metadata": {},
   "outputs": [
    {
     "data": {
      "text/plain": [
       "10"
      ]
     },
     "execution_count": 2,
     "metadata": {},
     "output_type": "execute_result"
    }
   ],
   "source": [
    "5+5"
   ]
  },
  {
   "cell_type": "code",
   "execution_count": null,
   "id": "55167ce6-790c-497c-bdb1-d40cc2e5088e",
   "metadata": {},
   "outputs": [],
   "source": []
  },
  {
   "cell_type": "code",
   "execution_count": 3,
   "id": "ccf38d90-fa9c-4557-b8bc-b4f0426b8963",
   "metadata": {},
   "outputs": [],
   "source": [
    "nome = \"Haron\""
   ]
  },
  {
   "cell_type": "code",
   "execution_count": 4,
   "id": "2cd105fc-7949-4dc7-9661-c5153e609a2b",
   "metadata": {},
   "outputs": [
    {
     "data": {
      "text/plain": [
       "'Haron'"
      ]
     },
     "execution_count": 4,
     "metadata": {},
     "output_type": "execute_result"
    }
   ],
   "source": [
    "nome"
   ]
  },
  {
   "cell_type": "code",
   "execution_count": 5,
   "id": "7fda251e-ac8e-41c8-8995-d97830c48440",
   "metadata": {},
   "outputs": [
    {
     "name": "stdout",
     "output_type": "stream",
     "text": [
      "Haron\n"
     ]
    }
   ],
   "source": [
    "print(nome)"
   ]
  },
  {
   "cell_type": "code",
   "execution_count": 6,
   "id": "5374d90a-9ed4-4eb2-89bf-9b857b9f9d93",
   "metadata": {},
   "outputs": [],
   "source": [
    "x = 345"
   ]
  },
  {
   "cell_type": "code",
   "execution_count": 7,
   "id": "f99f6109-561e-468a-850a-87d5547207f3",
   "metadata": {},
   "outputs": [],
   "source": [
    "y = x + 2"
   ]
  },
  {
   "cell_type": "code",
   "execution_count": 8,
   "id": "b1799343-34c1-4ef2-94a2-5b9cf454941c",
   "metadata": {},
   "outputs": [
    {
     "data": {
      "text/plain": [
       "347"
      ]
     },
     "execution_count": 8,
     "metadata": {},
     "output_type": "execute_result"
    }
   ],
   "source": [
    "y"
   ]
  },
  {
   "cell_type": "code",
   "execution_count": 9,
   "id": "6e2b9176-6e45-45c1-b626-48cc2b91c3f8",
   "metadata": {},
   "outputs": [
    {
     "ename": "SyntaxError",
     "evalue": "incomplete input (2260134484.py, line 1)",
     "output_type": "error",
     "traceback": [
      "\u001b[1;36m  Cell \u001b[1;32mIn[9], line 1\u001b[1;36m\u001b[0m\n\u001b[1;33m    y= (x + (3 * b)/(2 * x + c)\u001b[0m\n\u001b[1;37m                               ^\u001b[0m\n\u001b[1;31mSyntaxError\u001b[0m\u001b[1;31m:\u001b[0m incomplete input\n"
     ]
    }
   ],
   "source": [
    "y= (x + (3 * b)/(2 * x + c)"
   ]
  },
  {
   "cell_type": "code",
   "execution_count": 10,
   "id": "9f5a551c-abdb-46a1-8163-f5e7957e0fd5",
   "metadata": {},
   "outputs": [
    {
     "ename": "NameError",
     "evalue": "name 'b' is not defined",
     "output_type": "error",
     "traceback": [
      "\u001b[1;31m---------------------------------------------------------------------------\u001b[0m",
      "\u001b[1;31mNameError\u001b[0m                                 Traceback (most recent call last)",
      "Cell \u001b[1;32mIn[10], line 1\u001b[0m\n\u001b[1;32m----> 1\u001b[0m y \u001b[38;5;241m=\u001b[39m x \u001b[38;5;241m+\u001b[39m (\u001b[38;5;241m3\u001b[39m\u001b[38;5;241m*\u001b[39mb) \u001b[38;5;241m/\u001b[39m (\u001b[38;5;241m2\u001b[39m\u001b[38;5;241m*\u001b[39mx\u001b[38;5;241m+\u001b[39mC)\n",
      "\u001b[1;31mNameError\u001b[0m: name 'b' is not defined"
     ]
    }
   ],
   "source": [
    "y = x + (3*b) / (2*x+C)"
   ]
  },
  {
   "cell_type": "code",
   "execution_count": 11,
   "id": "813cf1ca-ee9b-4ed4-9eed-db14cf88c785",
   "metadata": {},
   "outputs": [
    {
     "name": "stderr",
     "output_type": "stream",
     "text": [
      "<>:1: SyntaxWarning: 'int' object is not callable; perhaps you missed a comma?\n",
      "<>:1: SyntaxWarning: 'int' object is not callable; perhaps you missed a comma?\n",
      "C:\\Users\\Alunos\\AppData\\Local\\Temp\\ipykernel_2384\\4033921798.py:1: SyntaxWarning: 'int' object is not callable; perhaps you missed a comma?\n",
      "  y+(x+3(3*b)/(2*x+c))\n",
      "C:\\Users\\Alunos\\AppData\\Local\\Temp\\ipykernel_2384\\4033921798.py:1: SyntaxWarning: 'int' object is not callable; perhaps you missed a comma?\n",
      "  y+(x+3(3*b)/(2*x+c))\n",
      "C:\\Users\\Alunos\\AppData\\Local\\Temp\\ipykernel_2384\\4033921798.py:1: SyntaxWarning: 'int' object is not callable; perhaps you missed a comma?\n",
      "  y+(x+3(3*b)/(2*x+c))\n",
      "C:\\Users\\Alunos\\AppData\\Local\\Temp\\ipykernel_2384\\4033921798.py:1: SyntaxWarning: 'int' object is not callable; perhaps you missed a comma?\n",
      "  y+(x+3(3*b)/(2*x+c))\n",
      "C:\\Users\\Alunos\\AppData\\Local\\Temp\\ipykernel_2384\\4033921798.py:1: SyntaxWarning: 'int' object is not callable; perhaps you missed a comma?\n",
      "  y+(x+3(3*b)/(2*x+c))\n"
     ]
    },
    {
     "ename": "NameError",
     "evalue": "name 'b' is not defined",
     "output_type": "error",
     "traceback": [
      "\u001b[1;31m---------------------------------------------------------------------------\u001b[0m",
      "\u001b[1;31mNameError\u001b[0m                                 Traceback (most recent call last)",
      "Cell \u001b[1;32mIn[11], line 1\u001b[0m\n\u001b[1;32m----> 1\u001b[0m y\u001b[38;5;241m+\u001b[39m(x\u001b[38;5;241m+\u001b[39m\u001b[38;5;241m3\u001b[39m(\u001b[38;5;241m3\u001b[39m\u001b[38;5;241m*\u001b[39mb)\u001b[38;5;241m/\u001b[39m(\u001b[38;5;241m2\u001b[39m\u001b[38;5;241m*\u001b[39mx\u001b[38;5;241m+\u001b[39mc))\n",
      "\u001b[1;31mNameError\u001b[0m: name 'b' is not defined"
     ]
    }
   ],
   "source": [
    "y+(x+3(3*b)/(2*x+c))"
   ]
  },
  {
   "cell_type": "code",
   "execution_count": 12,
   "id": "8db143d0-15ed-4472-a6d0-a3ef2a0ef347",
   "metadata": {},
   "outputs": [
    {
     "name": "stderr",
     "output_type": "stream",
     "text": [
      "<>:1: SyntaxWarning: 'int' object is not callable; perhaps you missed a comma?\n",
      "<>:1: SyntaxWarning: 'int' object is not callable; perhaps you missed a comma?\n",
      "C:\\Users\\Alunos\\AppData\\Local\\Temp\\ipykernel_2384\\2095751940.py:1: SyntaxWarning: 'int' object is not callable; perhaps you missed a comma?\n",
      "  ( x + 3 ( 3 * b ) / ( 2 * x + c ) )\n",
      "C:\\Users\\Alunos\\AppData\\Local\\Temp\\ipykernel_2384\\2095751940.py:1: SyntaxWarning: 'int' object is not callable; perhaps you missed a comma?\n",
      "  ( x + 3 ( 3 * b ) / ( 2 * x + c ) )\n",
      "C:\\Users\\Alunos\\AppData\\Local\\Temp\\ipykernel_2384\\2095751940.py:1: SyntaxWarning: 'int' object is not callable; perhaps you missed a comma?\n",
      "  ( x + 3 ( 3 * b ) / ( 2 * x + c ) )\n",
      "C:\\Users\\Alunos\\AppData\\Local\\Temp\\ipykernel_2384\\2095751940.py:1: SyntaxWarning: 'int' object is not callable; perhaps you missed a comma?\n",
      "  ( x + 3 ( 3 * b ) / ( 2 * x + c ) )\n",
      "C:\\Users\\Alunos\\AppData\\Local\\Temp\\ipykernel_2384\\2095751940.py:1: SyntaxWarning: 'int' object is not callable; perhaps you missed a comma?\n",
      "  ( x + 3 ( 3 * b ) / ( 2 * x + c ) )\n"
     ]
    },
    {
     "ename": "NameError",
     "evalue": "name 'b' is not defined",
     "output_type": "error",
     "traceback": [
      "\u001b[1;31m---------------------------------------------------------------------------\u001b[0m",
      "\u001b[1;31mNameError\u001b[0m                                 Traceback (most recent call last)",
      "Cell \u001b[1;32mIn[12], line 1\u001b[0m\n\u001b[1;32m----> 1\u001b[0m ( x \u001b[38;5;241m+\u001b[39m \u001b[38;5;241m3\u001b[39m ( \u001b[38;5;241m3\u001b[39m \u001b[38;5;241m*\u001b[39m b ) \u001b[38;5;241m/\u001b[39m ( \u001b[38;5;241m2\u001b[39m \u001b[38;5;241m*\u001b[39m x \u001b[38;5;241m+\u001b[39m c ) )\n",
      "\u001b[1;31mNameError\u001b[0m: name 'b' is not defined"
     ]
    }
   ],
   "source": [
    "( x + 3 ( 3 * b ) / ( 2 * x + c ) )"
   ]
  },
  {
   "cell_type": "code",
   "execution_count": 13,
   "id": "3f578375-b1da-49fe-89cf-c0e61dee0746",
   "metadata": {},
   "outputs": [
    {
     "ename": "NameError",
     "evalue": "name 'b' is not defined",
     "output_type": "error",
     "traceback": [
      "\u001b[1;31m---------------------------------------------------------------------------\u001b[0m",
      "\u001b[1;31mNameError\u001b[0m                                 Traceback (most recent call last)",
      "Cell \u001b[1;32mIn[13], line 1\u001b[0m\n\u001b[1;32m----> 1\u001b[0m y\u001b[38;5;241m=\u001b[39m(x\u001b[38;5;241m+\u001b[39m(\u001b[38;5;241m3\u001b[39m\u001b[38;5;241m*\u001b[39mb))\u001b[38;5;241m/\u001b[39m((\u001b[38;5;241m2\u001b[39m\u001b[38;5;241m*\u001b[39mx)\u001b[38;5;241m+\u001b[39mc)\n",
      "\u001b[1;31mNameError\u001b[0m: name 'b' is not defined"
     ]
    }
   ],
   "source": [
    "y=(x+(3*b))/((2*x)+c)"
   ]
  },
  {
   "cell_type": "code",
   "execution_count": 14,
   "id": "c60e57b2-4285-4d52-bb4a-f9e9654c4db6",
   "metadata": {},
   "outputs": [],
   "source": [
    "a = 5"
   ]
  },
  {
   "cell_type": "code",
   "execution_count": 15,
   "id": "27f929b7-c159-4bee-805a-87b7807c3683",
   "metadata": {},
   "outputs": [
    {
     "data": {
      "text/plain": [
       "int"
      ]
     },
     "execution_count": 15,
     "metadata": {},
     "output_type": "execute_result"
    }
   ],
   "source": [
    "type(a)"
   ]
  },
  {
   "cell_type": "code",
   "execution_count": 16,
   "id": "a2258370-c51c-48cd-bbe3-662c5767e6a7",
   "metadata": {},
   "outputs": [
    {
     "ename": "NameError",
     "evalue": "name 'true' is not defined",
     "output_type": "error",
     "traceback": [
      "\u001b[1;31m---------------------------------------------------------------------------\u001b[0m",
      "\u001b[1;31mNameError\u001b[0m                                 Traceback (most recent call last)",
      "Cell \u001b[1;32mIn[16], line 1\u001b[0m\n\u001b[1;32m----> 1\u001b[0m a \u001b[38;5;241m=\u001b[39m true\n",
      "\u001b[1;31mNameError\u001b[0m: name 'true' is not defined"
     ]
    }
   ],
   "source": [
    "a = true"
   ]
  },
  {
   "cell_type": "code",
   "execution_count": 17,
   "id": "c0d0a39d-df56-4cce-86bc-5c917b824143",
   "metadata": {},
   "outputs": [],
   "source": [
    "a = True\n"
   ]
  },
  {
   "cell_type": "code",
   "execution_count": 18,
   "id": "abc9ce5f-5b39-4777-a616-e20651371085",
   "metadata": {},
   "outputs": [],
   "source": [
    "a = True"
   ]
  },
  {
   "cell_type": "code",
   "execution_count": 19,
   "id": "2b562282-6c0d-4c9c-81ae-8884c5944dfc",
   "metadata": {},
   "outputs": [
    {
     "data": {
      "text/plain": [
       "bool"
      ]
     },
     "execution_count": 19,
     "metadata": {},
     "output_type": "execute_result"
    }
   ],
   "source": [
    "type (a)"
   ]
  },
  {
   "cell_type": "code",
   "execution_count": 20,
   "id": "2886107c-e916-48e9-aad0-9b506e0a024d",
   "metadata": {},
   "outputs": [],
   "source": [
    "a = 5.6"
   ]
  },
  {
   "cell_type": "code",
   "execution_count": 21,
   "id": "6296ef6d-ebc9-414b-a29f-75f911348ee4",
   "metadata": {},
   "outputs": [
    {
     "data": {
      "text/plain": [
       "float"
      ]
     },
     "execution_count": 21,
     "metadata": {},
     "output_type": "execute_result"
    }
   ],
   "source": [
    "type(a)"
   ]
  },
  {
   "cell_type": "code",
   "execution_count": 22,
   "id": "af5b83d2-c410-4778-a979-3c94acd0e410",
   "metadata": {},
   "outputs": [],
   "source": [
    "x = 45\n",
    "y = 23"
   ]
  },
  {
   "cell_type": "code",
   "execution_count": 23,
   "id": "0a405206-4f1c-4f88-a59d-b7b546e62d82",
   "metadata": {},
   "outputs": [],
   "source": [
    "soma = x + y"
   ]
  },
  {
   "cell_type": "code",
   "execution_count": 24,
   "id": "90a5ea08-02e3-4f44-80ba-ce1ff633f4f6",
   "metadata": {},
   "outputs": [
    {
     "data": {
      "text/plain": [
       "float"
      ]
     },
     "execution_count": 24,
     "metadata": {},
     "output_type": "execute_result"
    }
   ],
   "source": [
    "type(a)"
   ]
  },
  {
   "cell_type": "code",
   "execution_count": 25,
   "id": "55f74950-1f2f-47dc-840c-99fecd786c0a",
   "metadata": {},
   "outputs": [
    {
     "data": {
      "text/plain": [
       "int"
      ]
     },
     "execution_count": 25,
     "metadata": {},
     "output_type": "execute_result"
    }
   ],
   "source": [
    "type(soma)"
   ]
  },
  {
   "cell_type": "code",
   "execution_count": 26,
   "id": "d2e9421a-6faf-4822-bbb4-180e76846799",
   "metadata": {},
   "outputs": [
    {
     "name": "stdout",
     "output_type": "stream",
     "text": [
      "68\n"
     ]
    }
   ],
   "source": [
    "print(soma)"
   ]
  },
  {
   "cell_type": "code",
   "execution_count": 27,
   "id": "23aecb8c-4c91-45d5-a3c5-9390658fbad0",
   "metadata": {},
   "outputs": [
    {
     "data": {
      "text/plain": [
       "1.9565217391304348"
      ]
     },
     "execution_count": 27,
     "metadata": {},
     "output_type": "execute_result"
    }
   ],
   "source": [
    "x / y"
   ]
  },
  {
   "cell_type": "code",
   "execution_count": 28,
   "id": "be91a049-9302-42a1-a446-e8f680a22343",
   "metadata": {},
   "outputs": [
    {
     "data": {
      "text/plain": [
       "1"
      ]
     },
     "execution_count": 28,
     "metadata": {},
     "output_type": "execute_result"
    }
   ],
   "source": [
    "x // y"
   ]
  },
  {
   "cell_type": "code",
   "execution_count": 29,
   "id": "ff409543-752f-400c-a40d-c3eb81df4f04",
   "metadata": {},
   "outputs": [
    {
     "data": {
      "text/plain": [
       "22"
      ]
     },
     "execution_count": 29,
     "metadata": {},
     "output_type": "execute_result"
    }
   ],
   "source": [
    "x % y"
   ]
  },
  {
   "cell_type": "code",
   "execution_count": 30,
   "id": "e4b513ff-3e38-4b34-8330-991da6337127",
   "metadata": {},
   "outputs": [],
   "source": [
    "r = 10_000_000_000"
   ]
  },
  {
   "cell_type": "code",
   "execution_count": 31,
   "id": "2f7d5e9e-6706-4718-9a00-e7138dfba691",
   "metadata": {},
   "outputs": [
    {
     "data": {
      "text/plain": [
       "10000000000"
      ]
     },
     "execution_count": 31,
     "metadata": {},
     "output_type": "execute_result"
    }
   ],
   "source": [
    "r"
   ]
  },
  {
   "cell_type": "code",
   "execution_count": 32,
   "id": "871571b0-449b-452a-852b-f0edb39cff6a",
   "metadata": {},
   "outputs": [
    {
     "data": {
      "text/plain": [
       "105654455657631171893227100372314453125"
      ]
     },
     "execution_count": 32,
     "metadata": {},
     "output_type": "execute_result"
    }
   ],
   "source": [
    "x ** y"
   ]
  },
  {
   "cell_type": "code",
   "execution_count": 33,
   "id": "aef230b5-2554-4d69-a254-025b34d2f6a3",
   "metadata": {},
   "outputs": [],
   "source": [
    " x = 111111111111111111111111111111111111111111111111111111111111111111111111111111111111111111111111111111111111111111\n",
    "y = x ** 22"
   ]
  },
  {
   "cell_type": "code",
   "execution_count": 34,
   "id": "09cb03f7-079d-46f0-9cd4-9e99dbdc28d6",
   "metadata": {},
   "outputs": [
    {
     "data": {
      "text/plain": [
       "111111111111111111111111111111111111111111111111111111111111111111111111111111111111111111111111111111111111111111"
      ]
     },
     "execution_count": 34,
     "metadata": {},
     "output_type": "execute_result"
    }
   ],
   "source": [
    "x"
   ]
  },
  {
   "cell_type": "code",
   "execution_count": 35,
   "id": "9a320424-1e77-4b47-95c9-d7ec283ae712",
   "metadata": {},
   "outputs": [
    {
     "data": {
      "text/plain": [
       "1015464609872834454479266469210771634614856230919607931147305523620048505441057018261640395423830745525783301714692168472421588300933889417932174564088566011113100137705095734627988122834300293813686683217908941406260241927419579755386764303617216144373325051631710881055803763354901731296287757659686844115909861966556897491731489910440959692504118197938480724430226474741342530763257353379271199679032477583986245062269609304084492963276912316829358427793013134923717559659200227854768170200412662533225201019709581361647569665517504297966141817383044813112694088124439732164295366060615281450482199559799902969594916331198120997363376278763664293463753928679670057177134622811470075608179447395516044376201536731504003420484638627733919834117944906575626184106742537028755054616047631628119363061095883640278127021521615580636739551681381402059020570324242664468396368655435079346193131932922830849302804393480029699356762989376598146941644411656615611510244359302456622369717417173109305816254102275356954273662974539186962468736884930576213490818061709157030836314190283533597965880154655807398167169089868219140040859572308134853745058150264337575816113646357138773020282960645539286635416577273878382616668728673808048714099015978503569746090381063534686977651275212359019991206975417936913680523780380382272227738032668017290193990613635796310087348325805140456007124075143683932736399339599982454874862880640290768775998080071943162671455090094178872642588384270468283799544607840532452580574093098244408500468539533029759433516363026280015361032227347868219619556175034642542600078743632564174356507706283800996410486820182481650324892713763070666584245558851961472647109663524716773200329265269230040276689428330809644189751812257948632448437233784324912804049197533829755737273819087229763569426011561925243455474627306955325789221931950881248451808955294801028964242254044878439422924237290046986600460985594668262722513457254159293303784192428675656346121320591392527420367022586676522691716524727530948318594125129968390057328196260029810076427292030258331165199316843580100168568250789127913883075540529239666672615415654017361015607674203340960062789900379961636212886470550355375307956196036162630034185610247858136780732600805564982869183719778133262176184129553125674032847050352524353724526192125508194205619579297072090607721926871048060748234763400241523127029111066765545578898204560562758994921780284047770842732100159541670465921399746900671621215638157616549521"
      ]
     },
     "execution_count": 35,
     "metadata": {},
     "output_type": "execute_result"
    }
   ],
   "source": [
    "y"
   ]
  },
  {
   "cell_type": "code",
   "execution_count": 36,
   "id": "206a7f1f-a1d4-4a7e-808c-03d5ef9c395b",
   "metadata": {},
   "outputs": [],
   "source": [
    "y = 4.5"
   ]
  },
  {
   "cell_type": "code",
   "execution_count": 37,
   "id": "2b4be5d1-8370-483f-898c-a6753f2d4a81",
   "metadata": {},
   "outputs": [
    {
     "data": {
      "text/plain": [
       "1.1111111111111111e+113"
      ]
     },
     "execution_count": 37,
     "metadata": {},
     "output_type": "execute_result"
    }
   ],
   "source": [
    "y + x"
   ]
  },
  {
   "cell_type": "code",
   "execution_count": 38,
   "id": "deadbb29-0d72-4b06-9a94-7f970ca190a4",
   "metadata": {},
   "outputs": [
    {
     "data": {
      "text/plain": [
       "3.254421470251453e+17"
      ]
     },
     "execution_count": 38,
     "metadata": {},
     "output_type": "execute_result"
    }
   ],
   "source": [
    "2.45 ** 45"
   ]
  },
  {
   "cell_type": "code",
   "execution_count": null,
   "id": "0024e52f-610a-46e0-aef3-e47f5f9e52f7",
   "metadata": {},
   "outputs": [],
   "source": []
  },
  {
   "cell_type": "code",
   "execution_count": 39,
   "id": "2494e0fe-e16a-4b55-aaa1-f32440b50524",
   "metadata": {},
   "outputs": [
    {
     "data": {
      "text/plain": [
       "float"
      ]
     },
     "execution_count": 39,
     "metadata": {},
     "output_type": "execute_result"
    }
   ],
   "source": [
    "float"
   ]
  },
  {
   "cell_type": "code",
   "execution_count": 40,
   "id": "e7b979b7-541f-4d26-a50f-12b4803e7ac5",
   "metadata": {},
   "outputs": [
    {
     "data": {
      "text/plain": [
       "4"
      ]
     },
     "execution_count": 40,
     "metadata": {},
     "output_type": "execute_result"
    }
   ],
   "source": [
    "int(y)"
   ]
  },
  {
   "cell_type": "code",
   "execution_count": 41,
   "id": "0dc43c20-66d0-4fde-8636-a6da873eaf52",
   "metadata": {},
   "outputs": [],
   "source": [
    "x = True"
   ]
  },
  {
   "cell_type": "code",
   "execution_count": 42,
   "id": "a1fed91c-2744-4705-a0ad-e7a5704b98d4",
   "metadata": {},
   "outputs": [
    {
     "data": {
      "text/plain": [
       "True"
      ]
     },
     "execution_count": 42,
     "metadata": {},
     "output_type": "execute_result"
    }
   ],
   "source": [
    "x"
   ]
  },
  {
   "cell_type": "code",
   "execution_count": 43,
   "id": "b982c56a-9444-4c58-a645-782708b3a9d2",
   "metadata": {},
   "outputs": [
    {
     "ename": "NameError",
     "evalue": "name 'false' is not defined",
     "output_type": "error",
     "traceback": [
      "\u001b[1;31m---------------------------------------------------------------------------\u001b[0m",
      "\u001b[1;31mNameError\u001b[0m                                 Traceback (most recent call last)",
      "Cell \u001b[1;32mIn[43], line 1\u001b[0m\n\u001b[1;32m----> 1\u001b[0m y \u001b[38;5;241m=\u001b[39m false\n",
      "\u001b[1;31mNameError\u001b[0m: name 'false' is not defined"
     ]
    }
   ],
   "source": [
    "y = false"
   ]
  },
  {
   "cell_type": "code",
   "execution_count": 44,
   "id": "9311a987-933b-46d7-915f-202f154d30f7",
   "metadata": {},
   "outputs": [],
   "source": [
    "y = False"
   ]
  },
  {
   "cell_type": "code",
   "execution_count": 45,
   "id": "811ef76c-9413-4550-9215-2cb34bfbefdb",
   "metadata": {},
   "outputs": [
    {
     "data": {
      "text/plain": [
       "False"
      ]
     },
     "execution_count": 45,
     "metadata": {},
     "output_type": "execute_result"
    }
   ],
   "source": [
    "y"
   ]
  },
  {
   "cell_type": "code",
   "execution_count": 46,
   "id": "7436054a-280e-434e-a5db-0e45c4dc0fbf",
   "metadata": {},
   "outputs": [
    {
     "data": {
      "text/plain": [
       "True"
      ]
     },
     "execution_count": 46,
     "metadata": {},
     "output_type": "execute_result"
    }
   ],
   "source": [
    "x or y"
   ]
  },
  {
   "cell_type": "code",
   "execution_count": 47,
   "id": "103da9cd-89d3-4bf5-9d22-05ab4667e894",
   "metadata": {},
   "outputs": [
    {
     "data": {
      "text/plain": [
       "False"
      ]
     },
     "execution_count": 47,
     "metadata": {},
     "output_type": "execute_result"
    }
   ],
   "source": [
    "x and y"
   ]
  },
  {
   "cell_type": "code",
   "execution_count": 48,
   "id": "dc6d5200-400e-40d1-bfa7-2ca0fbb2e478",
   "metadata": {},
   "outputs": [
    {
     "data": {
      "text/plain": [
       "False"
      ]
     },
     "execution_count": 48,
     "metadata": {},
     "output_type": "execute_result"
    }
   ],
   "source": [
    "not x"
   ]
  },
  {
   "cell_type": "code",
   "execution_count": 49,
   "id": "22818b32-48b1-4739-a0e5-ea62e61b4676",
   "metadata": {},
   "outputs": [
    {
     "data": {
      "text/plain": [
       "True"
      ]
     },
     "execution_count": 49,
     "metadata": {},
     "output_type": "execute_result"
    }
   ],
   "source": [
    "y or x"
   ]
  },
  {
   "cell_type": "code",
   "execution_count": 50,
   "id": "033f7f7f-f69a-4002-a01c-dd8752f67114",
   "metadata": {},
   "outputs": [
    {
     "ename": "SyntaxError",
     "evalue": "unterminated string literal (detected at line 1) (2830501781.py, line 1)",
     "output_type": "error",
     "traceback": [
      "\u001b[1;36m  Cell \u001b[1;32mIn[50], line 1\u001b[1;36m\u001b[0m\n\u001b[1;33m    nome = 'Haron\"\u001b[0m\n\u001b[1;37m           ^\u001b[0m\n\u001b[1;31mSyntaxError\u001b[0m\u001b[1;31m:\u001b[0m unterminated string literal (detected at line 1)\n"
     ]
    }
   ],
   "source": [
    "nome = 'Haron\""
   ]
  },
  {
   "cell_type": "code",
   "execution_count": 51,
   "id": "3057b97c-0bd6-45db-828b-32083e65cf90",
   "metadata": {},
   "outputs": [],
   "source": [
    "nome = 'Haron'"
   ]
  },
  {
   "cell_type": "code",
   "execution_count": 52,
   "id": "0756745b-242b-4e0f-b5c6-5077686ed280",
   "metadata": {},
   "outputs": [
    {
     "data": {
      "text/plain": [
       "str"
      ]
     },
     "execution_count": 52,
     "metadata": {},
     "output_type": "execute_result"
    }
   ],
   "source": [
    "type(nome)"
   ]
  },
  {
   "cell_type": "code",
   "execution_count": 53,
   "id": "a37b705a-68b0-4d25-bcc6-12f95365851f",
   "metadata": {},
   "outputs": [
    {
     "ename": "NameError",
     "evalue": "name 'Vieira' is not defined",
     "output_type": "error",
     "traceback": [
      "\u001b[1;31m---------------------------------------------------------------------------\u001b[0m",
      "\u001b[1;31mNameError\u001b[0m                                 Traceback (most recent call last)",
      "Cell \u001b[1;32mIn[53], line 1\u001b[0m\n\u001b[1;32m----> 1\u001b[0m prenome \u001b[38;5;241m=\u001b[39m Vieira\n",
      "\u001b[1;31mNameError\u001b[0m: name 'Vieira' is not defined"
     ]
    }
   ],
   "source": [
    "prenome = Vieira"
   ]
  },
  {
   "cell_type": "code",
   "execution_count": 58,
   "id": "f6ad5f94-3076-4a78-9f11-fb330cfc249d",
   "metadata": {},
   "outputs": [],
   "source": [
    "pronome = 'vieira'"
   ]
  },
  {
   "cell_type": "code",
   "execution_count": 57,
   "id": "e6a93ee0-38b5-45a5-80fd-1d5d28da8e30",
   "metadata": {},
   "outputs": [
    {
     "ename": "SyntaxError",
     "evalue": "invalid syntax (4096667346.py, line 1)",
     "output_type": "error",
     "traceback": [
      "\u001b[1;36m  Cell \u001b[1;32mIn[57], line 1\u001b[1;36m\u001b[0m\n\u001b[1;33m    nome_completo = pronome ' ' + nome\u001b[0m\n\u001b[1;37m                            ^\u001b[0m\n\u001b[1;31mSyntaxError\u001b[0m\u001b[1;31m:\u001b[0m invalid syntax\n"
     ]
    }
   ],
   "source": [
    "nome_completo = pronome ' ' + nome"
   ]
  },
  {
   "cell_type": "code",
   "execution_count": 56,
   "id": "49afda44-2efd-4417-a688-d5aba1376b40",
   "metadata": {},
   "outputs": [
    {
     "data": {
      "text/plain": [
       "' Haron'"
      ]
     },
     "execution_count": 56,
     "metadata": {},
     "output_type": "execute_result"
    }
   ],
   "source": [
    "nome_completo"
   ]
  },
  {
   "cell_type": "code",
   "execution_count": 62,
   "id": "5e6ae969-5164-45af-8896-2de3fea52ec2",
   "metadata": {},
   "outputs": [
    {
     "ename": "SyntaxError",
     "evalue": "invalid syntax (1396755473.py, line 1)",
     "output_type": "error",
     "traceback": [
      "\u001b[1;36m  Cell \u001b[1;32mIn[62], line 1\u001b[1;36m\u001b[0m\n\u001b[1;33m    nome_completo = nome + ' ' prenome\u001b[0m\n\u001b[1;37m                               ^\u001b[0m\n\u001b[1;31mSyntaxError\u001b[0m\u001b[1;31m:\u001b[0m invalid syntax\n"
     ]
    }
   ],
   "source": [
    "nome_completo = nome + ' ' prenome"
   ]
  },
  {
   "cell_type": "code",
   "execution_count": 60,
   "id": "fa09ca5f-34a9-4487-b22b-4587fd57dc25",
   "metadata": {},
   "outputs": [
    {
     "data": {
      "text/plain": [
       "' vieira'"
      ]
     },
     "execution_count": 60,
     "metadata": {},
     "output_type": "execute_result"
    }
   ],
   "source": [
    "nome_completo"
   ]
  },
  {
   "cell_type": "code",
   "execution_count": 63,
   "id": "7edfdead-770b-47d5-96fa-faafafa568a9",
   "metadata": {},
   "outputs": [],
   "source": [
    "nome_completo = nome = pronome"
   ]
  },
  {
   "cell_type": "code",
   "execution_count": 64,
   "id": "c6f411c2-c397-4869-906a-6c968a550f42",
   "metadata": {},
   "outputs": [
    {
     "data": {
      "text/plain": [
       "'vieira'"
      ]
     },
     "execution_count": 64,
     "metadata": {},
     "output_type": "execute_result"
    }
   ],
   "source": [
    "nome_completo"
   ]
  },
  {
   "cell_type": "code",
   "execution_count": 65,
   "id": "728c74b6-cebe-44d9-be31-b831951a6b3b",
   "metadata": {},
   "outputs": [],
   "source": [
    "nome = \"Haron\""
   ]
  },
  {
   "cell_type": "code",
   "execution_count": 66,
   "id": "63a9f76b-6f02-4278-948f-5557d639ad88",
   "metadata": {},
   "outputs": [],
   "source": [
    "pronome = \"Vieira\""
   ]
  },
  {
   "cell_type": "code",
   "execution_count": 68,
   "id": "d2314a34-0832-4a8e-8e45-b505789b7eac",
   "metadata": {},
   "outputs": [
    {
     "ename": "SyntaxError",
     "evalue": "invalid syntax (702368160.py, line 1)",
     "output_type": "error",
     "traceback": [
      "\u001b[1;36m  Cell \u001b[1;32mIn[68], line 1\u001b[1;36m\u001b[0m\n\u001b[1;33m    nome_completo = nome  \" \" + pronome\u001b[0m\n\u001b[1;37m                          ^\u001b[0m\n\u001b[1;31mSyntaxError\u001b[0m\u001b[1;31m:\u001b[0m invalid syntax\n"
     ]
    }
   ],
   "source": [
    "nome_completo = nome  \" \" + pronome"
   ]
  },
  {
   "cell_type": "markdown",
   "id": "fc0194ec-f415-456c-971c-6cd6b17f17c1",
   "metadata": {},
   "source": [
    "nome + pronome"
   ]
  },
  {
   "cell_type": "code",
   "execution_count": 69,
   "id": "b2be387e-9e3b-4740-a331-16e311c83e4a",
   "metadata": {},
   "outputs": [
    {
     "data": {
      "text/plain": [
       "'R'"
      ]
     },
     "execution_count": 69,
     "metadata": {},
     "output_type": "execute_result"
    }
   ],
   "source": [
    "chr (82)"
   ]
  },
  {
   "cell_type": "code",
   "execution_count": 70,
   "id": "449631de-cacd-41f1-ad10-6c8379d7b268",
   "metadata": {},
   "outputs": [
    {
     "data": {
      "text/plain": [
       "'\\x05'"
      ]
     },
     "execution_count": 70,
     "metadata": {},
     "output_type": "execute_result"
    }
   ],
   "source": [
    "chr (5)"
   ]
  },
  {
   "cell_type": "code",
   "execution_count": 71,
   "id": "84e60526-49ad-4533-a825-30e02bb14ba8",
   "metadata": {},
   "outputs": [
    {
     "data": {
      "text/plain": [
       "97"
      ]
     },
     "execution_count": 71,
     "metadata": {},
     "output_type": "execute_result"
    }
   ],
   "source": [
    "ord ('a')"
   ]
  },
  {
   "cell_type": "code",
   "execution_count": null,
   "id": "cda48636-cbe6-4247-b6f9-9ef9368b805a",
   "metadata": {},
   "outputs": [],
   "source": []
  }
 ],
 "metadata": {
  "kernelspec": {
   "display_name": "Python 3 (ipykernel)",
   "language": "python",
   "name": "python3"
  },
  "language_info": {
   "codemirror_mode": {
    "name": "ipython",
    "version": 3
   },
   "file_extension": ".py",
   "mimetype": "text/x-python",
   "name": "python",
   "nbconvert_exporter": "python",
   "pygments_lexer": "ipython3",
   "version": "3.12.4"
  }
 },
 "nbformat": 4,
 "nbformat_minor": 5
}
